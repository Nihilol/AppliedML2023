{
 "cells": [
  {
   "cell_type": "code",
   "execution_count": 1,
   "metadata": {},
   "outputs": [
    {
     "name": "stdout",
     "output_type": "stream",
     "text": [
      "Shape of training data set: (162500, 166)\n",
      "Shape of test data set: (160651, 164)\n",
      "Shape of X: (162500, 160)\n",
      "Shape of y: (162500,)\n"
     ]
    }
   ],
   "source": [
    "import h5py\n",
    "import pandas\n",
    "import numpy as np\n",
    "import pandas as pd\n",
    "from matplotlib import pyplot as plt\n",
    "from sklearn.tree import DecisionTreeClassifier, plot_tree,export_graphviz\n",
    "import pandas as pd\n",
    "import graphviz\n",
    "from IPython.display import SVG\n",
    "from graphviz import Source\n",
    "from sklearn import tree\n",
    "from ipywidgets import interactive\n",
    "from IPython.display import display\n",
    "from sklearn.metrics import mean_squared_error\n",
    "from sklearn.model_selection import train_test_split\n",
    "from sklearn.metrics import roc_curve\n",
    "from sklearn.metrics import auc\n",
    "from sklearn.metrics import confusion_matrix\n",
    "import lightgbm as lgb\n",
    "from lightgbm import early_stopping\n",
    "from functions import *\n",
    "import time\n",
    "\n",
    "def load_data(name):\n",
    "    with h5py.File(f'{name}.h5', 'r') as f:\n",
    "        filename = name.split('/')[1]\n",
    "        return pandas.DataFrame(f[filename][:], dtype=np.float64)\n",
    "\n",
    "train = load_data('data/train')\n",
    "test  = load_data('data/test')\n",
    "\n",
    "print (f'Shape of training data set: {train.shape}')\n",
    "print (f'Shape of test data set: {test.shape}')\n",
    "\n",
    "all_variables = ['actualInteractionsPerCrossing', 'averageInteractionsPerCrossing', 'correctedActualMu', 'correctedAverageMu', 'correctedScaledActualMu',\n",
    "                 'correctedScaledAverageMu', 'NvtxReco', 'p_nTracks', 'p_pt_track', 'p_eta', 'p_phi', 'p_charge', 'p_qOverP', 'p_z0', 'p_d0', 'p_sigmad0',\n",
    "                 'p_d0Sig', 'p_EptRatio', 'p_dPOverP', 'p_z0theta', 'p_etaCluster', 'p_phiCluster', 'p_eCluster', 'p_rawEtaCluster', 'p_rawPhiCluster',\n",
    "                 'p_rawECluster', 'p_eClusterLr0', 'p_eClusterLr1', 'p_eClusterLr2', 'p_eClusterLr3', 'p_etaClusterLr1', 'p_etaClusterLr2', 'p_phiClusterLr2',\n",
    "                 'p_eAccCluster', 'p_f0Cluster', 'p_etaCalo', 'p_phiCalo', 'p_eTileGap3Cluster', 'p_cellIndexCluster', 'p_phiModCalo', 'p_etaModCalo', 'p_dPhiTH3',\n",
    "                 'p_R12', 'p_fTG3', 'p_weta2', 'p_Reta', 'p_Rphi', 'p_Eratio', 'p_f1', 'p_f3', 'p_Rhad', 'p_Rhad1', 'p_deltaEta1', 'p_deltaPhiRescaled2',\n",
    "                 'p_TRTPID', 'p_TRTTrackOccupancy', 'p_numberOfInnermostPixelHits', 'p_numberOfPixelHits', 'p_numberOfSCTHits', 'p_numberOfTRTHits',\n",
    "                 'p_numberOfTRTXenonHits', 'p_chi2', 'p_ndof', 'p_SharedMuonTrack', 'p_E7x7_Lr2', 'p_E7x7_Lr3', 'p_E_Lr0_HiG', 'p_E_Lr0_LowG', 'p_E_Lr0_MedG',\n",
    "                 'p_E_Lr1_HiG', 'p_E_Lr1_LowG', 'p_E_Lr1_MedG', 'p_E_Lr2_HiG', 'p_E_Lr2_LowG', 'p_E_Lr2_MedG', 'p_E_Lr3_HiG', 'p_E_Lr3_LowG', 'p_E_Lr3_MedG',\n",
    "                 'p_ambiguityType', 'p_asy1', 'p_author', 'p_barys1', 'p_core57cellsEnergyCorrection', 'p_deltaEta0', 'p_deltaEta2', 'p_deltaEta3', 'p_deltaPhi0',\n",
    "                 'p_deltaPhi1', 'p_deltaPhi2', 'p_deltaPhi3', 'p_deltaPhiFromLastMeasurement', 'p_deltaPhiRescaled0', 'p_deltaPhiRescaled1', 'p_deltaPhiRescaled3',\n",
    "                 'p_e1152', 'p_e132', 'p_e235', 'p_e255', 'p_e2ts1', 'p_ecore', 'p_emins1', 'p_etconeCorrBitset', 'p_ethad', 'p_ethad1', 'p_f1core', 'p_f3core',\n",
    "                 'p_maxEcell_energy', 'p_maxEcell_gain', 'p_maxEcell_time', 'p_maxEcell_x', 'p_maxEcell_y', 'p_maxEcell_z', 'p_nCells_Lr0_HiG', 'p_nCells_Lr0_LowG',\n",
    "                 'p_nCells_Lr0_MedG', 'p_nCells_Lr1_HiG', 'p_nCells_Lr1_LowG', 'p_nCells_Lr1_MedG', 'p_nCells_Lr2_HiG', 'p_nCells_Lr2_LowG', 'p_nCells_Lr2_MedG',\n",
    "                 'p_nCells_Lr3_HiG', 'p_nCells_Lr3_LowG', 'p_nCells_Lr3_MedG', 'p_pos', 'p_pos7', 'p_poscs1', 'p_poscs2', 'p_ptconeCorrBitset',\n",
    "                 'p_ptconecoreTrackPtrCorrection', 'p_r33over37allcalo', 'p_topoetconeCorrBitset', 'p_topoetconecoreConeEnergyCorrection',\n",
    "                 'p_topoetconecoreConeSCEnergyCorrection', 'p_weta1', 'p_widths1', 'p_widths2', 'p_wtots1', 'p_e233', 'p_e237', 'p_e277', 'p_e2tsts1', 'p_ehad1',\n",
    "                 'p_emaxs1', 'p_fracs1', 'p_DeltaE', 'p_E3x5_Lr0', 'p_E3x5_Lr1', 'p_E3x5_Lr2', 'p_E3x5_Lr3', 'p_E5x7_Lr0', 'p_E5x7_Lr1', 'p_E5x7_Lr2', 'p_E5x7_Lr3',\n",
    "                 'p_E7x11_Lr0', 'p_E7x11_Lr1', 'p_E7x11_Lr2', 'p_E7x11_Lr3', 'p_E7x7_Lr0', 'p_E7x7_Lr1' ]\n",
    "\n",
    "X = train[all_variables]\n",
    "y = train['Truth']\n",
    "\n",
    "\n",
    "print (f'Shape of X: {X.shape}')\n",
    "print (f'Shape of y: {y.shape}')"
   ]
  },
  {
   "cell_type": "code",
   "execution_count": 2,
   "metadata": {},
   "outputs": [],
   "source": [
    "# # 6x6 plot of the variable distributions (diagonal) and their mutual correlations (off-diagonal):\n",
    "\n",
    "# amount_to_drop = 0\n",
    "\n",
    "# index_dropping = np.arange(start = 0, stop = amount_to_drop, step = 1, dtype = 'int')\n",
    "\n",
    "\n",
    "\n",
    "# X_trimmed = train.get(['p_numberOfPixelHits','correctedActualMu','Truth','p_charge', 'p_rawECluster', 'p_eClusterLr0',\n",
    "#                        'p_eClusterLr1', 'p_eClusterLr3', 'p_ehad1',\n",
    "#                    'p_DeltaE', 'p_f0Cluster', 'p_etaCalo', 'p_phiCalo', 'p_eTileGap3Cluster', 'p_cellIndexCluster', 'p_phiModCalo', 'p_etaModCalo', 'p_dPhiTH3',\n",
    "#                  'p_R12', 'p_weta2', 'p_Reta', 'p_Rphi', 'p_Eratio', 'p_f1', 'p_f3', 'p_Rhad', 'p_deltaEta1',\n",
    "#                  'p_TRTPID', 'p_numberOfInnermostPixelHits', 'p_numberOfSCTHits', 'p_numberOfTRTHits',]);       # Trim dataframe to have relevant variables\n",
    "\n",
    "# X_trimmed = X_trimmed.drop(index_dropping)\n",
    "\n",
    "\n",
    "# import seaborn as sns\n",
    "# #sns.pairplot(X_trimmed, hue='Truth', diag_kind='hist')"
   ]
  },
  {
   "attachments": {},
   "cell_type": "markdown",
   "metadata": {},
   "source": [
    "## Setting up the correlation functions:"
   ]
  },
  {
   "cell_type": "code",
   "execution_count": 3,
   "metadata": {},
   "outputs": [],
   "source": [
    "\n",
    "# # First print the correlations for ALL events:\n",
    "# #print(X_trimmed.corr(method='pearson'))\n",
    "\n",
    "# # Divide data into b-jets and non-b-jets:\n",
    "# df_electron = X_trimmed.loc[X_trimmed['Truth'] == 1].drop(['Truth'], axis=1);\n",
    "# df_non_electron = X_trimmed.loc[X_trimmed['Truth'] == 0].drop(['Truth'], axis=1);\n",
    "\n",
    "# plot_corr = False\n",
    "\n",
    "# if plot_corr:\n",
    "#     # Make two separate correlation plots, also to see differences:\n",
    "#     fig, ax = plt.subplots(1, 2, figsize=(18, 8))\n",
    "#     sns.heatmap(df_electron.corr(), mask=np.zeros_like(df_electron.corr(), dtype=bool),\n",
    "#                 cmap=sns.diverging_palette(220, 10, as_cmap=True), vmin=-1.0, vmax=1.0,\n",
    "#                 square=True, ax=ax[0])\n",
    "#     ax[0].set_title('Electrons');\n",
    "\n",
    "#     sns.heatmap(df_non_electron.corr(), mask=np.zeros_like(df_non_electron.corr(), dtype=bool),\n",
    "#                 cmap=sns.diverging_palette(220, 10, as_cmap=True), vmin=-1.0, vmax=1.0,\n",
    "#                 square=True, ax=ax[1])\n",
    "#     ax[1].set_title('Non-electrons');"
   ]
  },
  {
   "attachments": {},
   "cell_type": "markdown",
   "metadata": {},
   "source": [
    "## Decision Tree"
   ]
  },
  {
   "cell_type": "code",
   "execution_count": 4,
   "metadata": {},
   "outputs": [],
   "source": [
    "# def plot_tree(depth, Nmin):\n",
    "#     tree_clf = DecisionTreeClassifier(max_depth=depth, min_samples_leaf=Nmin)\n",
    "#     tree_clf.fit(X, y)\n",
    "#     graph = Source(tree.export_graphviz(tree_clf, out_file=None, filled = True))\n",
    "#     display(SVG(graph.pipe(format='svg')))\n",
    "#     return tree_clf"
   ]
  },
  {
   "cell_type": "code",
   "execution_count": 5,
   "metadata": {},
   "outputs": [],
   "source": [
    "# tree_clf = DecisionTreeClassifier(max_depth=1, min_samples_leaf=1)\n",
    "\n",
    "# y_trimmed = X_trimmed['Truth']\n",
    "\n",
    "# predicted_truth = tree_clf.fit(X_trimmed, y_trimmed).predict(X_trimmed)\n",
    "\n",
    "# N, accuracy, fracWrong = confusion_matrix(predicted_truth, y_trimmed.to_numpy())\n",
    "# print(\"\\nDecision Tree BJET TAG:\")\n",
    "# print(\"  First number in parenthesis is the estimate, second is the MC truth:\")\n",
    "# print(\"  True-Negative (0,0)  = \", N[0][0])\n",
    "# print(\"  False-Negative (0,1) = \", N[0][1])\n",
    "# print(\"  False-Positive (1,0) = \", N[1][0])\n",
    "# print(\"  True-Positive (1,1)  = \", N[1][1])\n",
    "# print(\"    Fraction wrong            = ( (0,1) + (1,0) ) / sum = \", fracWrong)\n",
    "# print(\"    Fraction right (accuracy) = ( (0,0) + (1,1) ) / sum = \", accuracy)"
   ]
  },
  {
   "attachments": {},
   "cell_type": "markdown",
   "metadata": {},
   "source": [
    "## Setting up LightGBM"
   ]
  },
  {
   "cell_type": "code",
   "execution_count": 6,
   "metadata": {},
   "outputs": [
    {
     "name": "stdout",
     "output_type": "stream",
     "text": [
      "Training until validation scores don't improve for 20 rounds\n",
      "Early stopping, best iteration is:\n",
      "[748]\tvalid_0's binary_logloss: 0.145286\n",
      "Time used by LightGBM: 14.5 ms\n"
     ]
    }
   ],
   "source": [
    "\n",
    "start=time.time()\n",
    "\n",
    "# Split data set into training and test set and feed these to LightGBM:\n",
    "# We choose a 75:25 division here. Dataset is shuffeled before the split. \n",
    "# By using a number (42), it creates a random seed so you can rerun and obtain the same result.\n",
    "input_train, input_test, truth_train, truth_test = train_test_split(X, y, test_size=0.25, random_state=42)\n",
    "lgb_train = lgb.Dataset(input_train, truth_train)\n",
    "lgb_eval  = lgb.Dataset(input_test,  truth_test, reference=lgb_train)\n",
    "params = {\n",
    "    'boosting_type': 'gbdt', # Traditional Gradient Boosting tree, we are combining many 'weak' learners here!\n",
    "    'objective': 'binary',   # The outcome is binary, b-quark or not\n",
    "    'num_leaves': 6,         # Set a maximum tree leaves to avoid overfitting\n",
    "    'verbose':-1,            # Suppress some output\n",
    "}\n",
    "\n",
    "# Train the model:\n",
    "gbm = lgb.train(params,\n",
    "                lgb_train,\n",
    "                num_boost_round=1000,\n",
    "                valid_sets=lgb_eval,\n",
    "                callbacks=[early_stopping(20)])     # Stops if no improvement is seen in N rounds.\n",
    "\n",
    "# Make predictions:\n",
    "y_score = gbm.predict(input_test, num_iteration=gbm.best_iteration)  # Scores are floats in the range ]0,1[.\n",
    "y_pred  = [1 if pred > 0.1 else 0 for pred in y_score]               # Classify b-quark yes or no (for comparison). \n",
    "\n",
    "# Print the time usage:\n",
    "end = time.time()\n",
    "print(f\"Time used by LightGBM: {(end-start):.1f} ms\")"
   ]
  },
  {
   "attachments": {},
   "cell_type": "markdown",
   "metadata": {},
   "source": [
    "## Setting up the feature importance, so that we can choose the 15 best parameters"
   ]
  },
  {
   "cell_type": "code",
   "execution_count": 7,
   "metadata": {},
   "outputs": [],
   "source": [
    "important_features = gbm.feature_importance()\n",
    "\n",
    "important_features_index = np.argpartition(important_features, -15)[-15:]\n",
    "\n",
    "gbm_trimmed_variables = np.asarray(all_variables)[important_features_index]\n",
    "\n",
    "X_gbm_trimmed = X[gbm_trimmed_variables]\n",
    "\n",
    "#lgb.plot_importance(gbm, grid = True, title = \"Feature importance\", xlabel = \"Feature Importance score\", ylabel = \"Features\", figsize = (20, 35))"
   ]
  },
  {
   "attachments": {},
   "cell_type": "markdown",
   "metadata": {},
   "source": [
    "## Setting up the optimised boosted decision tree, with the 15 parameters"
   ]
  },
  {
   "cell_type": "code",
   "execution_count": 8,
   "metadata": {},
   "outputs": [
    {
     "name": "stdout",
     "output_type": "stream",
     "text": [
      "Training until validation scores don't improve for 20 rounds\n",
      "Early stopping, best iteration is:\n",
      "[778]\tvalid_0's binary_logloss: 0.152994\n",
      "Time used by LightGBM: 3.0 ms\n"
     ]
    }
   ],
   "source": [
    "start_1 = time.time()\n",
    "\n",
    "# Split data set into training and test set and feed these to LightGBM:\n",
    "# We choose a 75:25 division here. Dataset is shuffeled before the split. \n",
    "# By using a number (42), it creates a random seed so you can rerun and obtain the same result.\n",
    "input_train_opt, input_test_opt, truth_train_opt, truth_test_opt = train_test_split(X_gbm_trimmed, y, test_size=0.25, random_state=42)\n",
    "lgb_train_opt = lgb.Dataset(input_train_opt, truth_train_opt)\n",
    "lgb_eval_opt  = lgb.Dataset(input_test_opt,  truth_test_opt, reference=lgb_train_opt)\n",
    "params_opt = {\n",
    "    'boosting_type': 'gbdt', # Traditional Gradient Boosting tree, we are combining many 'weak' learners here!\n",
    "    'objective': 'binary',   # The outcome is binary, electron or not\n",
    "    'num_leaves': 6,         # Set a maximum tree leaves to avoid overfitting\n",
    "    'verbose':-1,            # Suppress some output\n",
    "}\n",
    "\n",
    "# Train the model:\n",
    "gbm_opt = lgb.train(params_opt,\n",
    "                lgb_train_opt,\n",
    "                num_boost_round=1000,\n",
    "                valid_sets=lgb_eval_opt,\n",
    "                callbacks=[early_stopping(20)])     # Stops if no improvement is seen in N rounds.\n",
    "\n",
    "# Make predictions:\n",
    "y_score_opt = gbm_opt.predict(input_test_opt, num_iteration=gbm.best_iteration)  # Scores are floats in the range ]0,1[.\n",
    "y_pred_opt  = [1 if pred > 0.1 else 0 for pred in y_score_opt]               # Classify b-quark yes or no (for comparison). \n",
    "\n",
    "# Print the time usage:\n",
    "end_1 = time.time()\n",
    "print(f\"Time used by LightGBM: {(end_1-start_1):.1f} ms\")"
   ]
  },
  {
   "attachments": {},
   "cell_type": "markdown",
   "metadata": {},
   "source": [
    "## Set up ROC curves for this model:"
   ]
  },
  {
   "cell_type": "code",
   "execution_count": 9,
   "metadata": {},
   "outputs": [
    {
     "data": {
      "image/png": "[encoded data removed]",
      "text/plain": [
       "<Figure size 600x600 with 1 Axes>"
      ]
     },
     "metadata": {},
     "output_type": "display_data"
    }
   ],
   "source": [
    "fpr, tpr, _ = roc_curve(truth_test, y_score)                  # False/True Positive Rate for our model\n",
    "fpr_opt, tpr_opt, _ = roc_curve(truth_test, y_score_opt)                  # False/True Positive Rate for our model\n",
    "\n",
    "# We can now calculate the AUC scores of these ROC-curves:\n",
    "auc_score = auc(fpr, tpr)                        # This is the AUC score for our model\n",
    "auc_score_opt = auc(fpr_opt, tpr_opt)                        # This is the AUC score for our model\n",
    "\n",
    "\n",
    "# Let's plot the ROC curves for these results:\n",
    "fig = plt.figure(figsize = [6,6])\n",
    "plt.title('Model ROC Comparison', size = 16)\n",
    "plt.plot(fpr, tpr, label=f'Full model (AUC = {auc_score:5.3f})')\n",
    "plt.plot(fpr_opt, tpr_opt, label=f'15 var model (AUC = {auc_score_opt:5.3f})')\n",
    "plt.legend(fontsize=16)\n",
    "plt.xlabel('False Postive Rate', size=16)\n",
    "plt.ylabel('True Positive Rate', size=16)\n",
    "plt.show()"
   ]
  },
  {
   "cell_type": "code",
   "execution_count": null,
   "metadata": {},
   "outputs": [],
   "source": []
  }
 ],
 "metadata": {
  "kernelspec": {
   "display_name": "base",
   "language": "python",
   "name": "python3"
  },
  "language_info": {
   "codemirror_mode": {
    "name": "ipython",
    "version": 3
   },
   "file_extension": ".py",
   "mimetype": "text/x-python",
   "name": "python",
   "nbconvert_exporter": "python",
   "pygments_lexer": "ipython3",
   "version": "3.10.9"
  },
  "orig_nbformat": 4
 },
 "nbformat": 4,
 "nbformat_minor": 2
}
